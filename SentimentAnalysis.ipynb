{
 "cells": [
  {
   "cell_type": "code",
   "execution_count": null,
   "metadata": {},
   "outputs": [
    {
     "name": "stdout",
     "output_type": "stream",
     "text": [
      "Class Distribution in Train Dataset: Counter({2: 555, 0: 155, 1: 133, 3: 49})\n"
     ]
    },
    {
     "data": {
      "application/vnd.jupyter.widget-view+json": {
       "model_id": "c47db5f30be84841899016876f497050",
       "version_major": 2,
       "version_minor": 0
      },
      "text/plain": [
       "Map:   0%|          | 0/2220 [00:00<?, ? examples/s]"
      ]
     },
     "metadata": {},
     "output_type": "display_data"
    },
    {
     "name": "stdout",
     "output_type": "stream",
     "text": [
      "Class Distribution in Balanced Train Dataset: Counter({3: 555, 1: 555, 0: 555, 2: 555})\n"
     ]
    },
    {
     "name": "stderr",
     "output_type": "stream",
     "text": [
      "Some weights of RobertaForSequenceClassification were not initialized from the model checkpoint at roberta-base and are newly initialized: ['classifier.dense.bias', 'classifier.dense.weight', 'classifier.out_proj.bias', 'classifier.out_proj.weight']\n",
      "You should probably TRAIN this model on a down-stream task to be able to use it for predictions and inference.\n",
      "c:\\Users\\Rahul\\anaconda3\\Lib\\site-packages\\transformers\\training_args.py:1568: FutureWarning: `evaluation_strategy` is deprecated and will be removed in version 4.46 of 🤗 Transformers. Use `eval_strategy` instead\n",
      "  warnings.warn(\n"
     ]
    },
    {
     "data": {
      "application/vnd.jupyter.widget-view+json": {
       "model_id": "46af74bb7899499ab6a712e5fbfdaff7",
       "version_major": 2,
       "version_minor": 0
      },
      "text/plain": [
       "  0%|          | 0/417 [00:00<?, ?it/s]"
      ]
     },
     "metadata": {},
     "output_type": "display_data"
    },
    {
     "name": "stdout",
     "output_type": "stream",
     "text": [
      "{'loss': 1.3886, 'grad_norm': 2.81710147857666, 'learning_rate': 1.9520383693045567e-05, 'epoch': 0.07}\n",
      "{'loss': 1.3927, 'grad_norm': 3.241586923599243, 'learning_rate': 1.9040767386091128e-05, 'epoch': 0.14}\n",
      "{'loss': 1.3982, 'grad_norm': 1.9486370086669922, 'learning_rate': 1.8561151079136693e-05, 'epoch': 0.22}\n",
      "{'loss': 1.3746, 'grad_norm': 1.6733670234680176, 'learning_rate': 1.8081534772182258e-05, 'epoch': 0.29}\n",
      "{'loss': 1.3796, 'grad_norm': 3.8047642707824707, 'learning_rate': 1.760191846522782e-05, 'epoch': 0.36}\n",
      "{'loss': 1.2567, 'grad_norm': 12.471094131469727, 'learning_rate': 1.7122302158273384e-05, 'epoch': 0.43}\n",
      "{'loss': 1.1117, 'grad_norm': 20.55514907836914, 'learning_rate': 1.6642685851318946e-05, 'epoch': 0.5}\n",
      "{'loss': 0.9696, 'grad_norm': 30.848346710205078, 'learning_rate': 1.616306954436451e-05, 'epoch': 0.58}\n",
      "{'loss': 0.8248, 'grad_norm': 12.532620429992676, 'learning_rate': 1.5683453237410072e-05, 'epoch': 0.65}\n",
      "{'loss': 0.6556, 'grad_norm': 13.692825317382812, 'learning_rate': 1.5203836930455638e-05, 'epoch': 0.72}\n",
      "{'loss': 0.6548, 'grad_norm': 37.27756118774414, 'learning_rate': 1.47242206235012e-05, 'epoch': 0.79}\n",
      "{'loss': 0.4776, 'grad_norm': 17.78148078918457, 'learning_rate': 1.4244604316546765e-05, 'epoch': 0.86}\n",
      "{'loss': 0.4265, 'grad_norm': 20.75373077392578, 'learning_rate': 1.3764988009592328e-05, 'epoch': 0.94}\n"
     ]
    },
    {
     "data": {
      "application/vnd.jupyter.widget-view+json": {
       "model_id": "8b36519b55d04b3fb798ba9fb3c37349",
       "version_major": 2,
       "version_minor": 0
      },
      "text/plain": [
       "  0%|          | 0/7 [00:00<?, ?it/s]"
      ]
     },
     "metadata": {},
     "output_type": "display_data"
    },
    {
     "name": "stderr",
     "output_type": "stream",
     "text": [
      "c:\\Users\\Rahul\\anaconda3\\Lib\\site-packages\\sklearn\\metrics\\_classification.py:1531: UndefinedMetricWarning: Recall is ill-defined and being set to 0.0 in labels with no true samples. Use `zero_division` parameter to control this behavior.\n",
      "  _warn_prf(average, modifier, f\"{metric.capitalize()} is\", len(result))\n"
     ]
    },
    {
     "name": "stdout",
     "output_type": "stream",
     "text": [
      "{'eval_loss': 0.571972668170929, 'eval_accuracy': 0.7788461538461539, 'eval_precision': 0.8393091636869917, 'eval_recall': 0.7788461538461539, 'eval_f1': 0.8073496905393458, 'eval_runtime': 8.3746, 'eval_samples_per_second': 12.418, 'eval_steps_per_second': 0.836, 'epoch': 1.0}\n",
      "{'loss': 0.3632, 'grad_norm': 27.74315071105957, 'learning_rate': 1.3285371702637891e-05, 'epoch': 1.01}\n",
      "{'loss': 0.2852, 'grad_norm': 5.6066484451293945, 'learning_rate': 1.2805755395683454e-05, 'epoch': 1.08}\n",
      "{'loss': 0.2184, 'grad_norm': 25.339035034179688, 'learning_rate': 1.232613908872902e-05, 'epoch': 1.15}\n",
      "{'loss': 0.1965, 'grad_norm': 11.60024356842041, 'learning_rate': 1.184652278177458e-05, 'epoch': 1.22}\n",
      "{'loss': 0.2082, 'grad_norm': 36.952117919921875, 'learning_rate': 1.1366906474820146e-05, 'epoch': 1.29}\n",
      "{'loss': 0.1911, 'grad_norm': 3.274742364883423, 'learning_rate': 1.0887290167865707e-05, 'epoch': 1.37}\n",
      "{'loss': 0.1687, 'grad_norm': 12.843656539916992, 'learning_rate': 1.0407673860911272e-05, 'epoch': 1.44}\n",
      "{'loss': 0.2758, 'grad_norm': 12.847490310668945, 'learning_rate': 9.928057553956835e-06, 'epoch': 1.51}\n",
      "{'loss': 0.175, 'grad_norm': 5.258148193359375, 'learning_rate': 9.448441247002398e-06, 'epoch': 1.58}\n",
      "{'loss': 0.2201, 'grad_norm': 10.343398094177246, 'learning_rate': 8.968824940047961e-06, 'epoch': 1.65}\n",
      "{'loss': 0.1966, 'grad_norm': 17.117406845092773, 'learning_rate': 8.489208633093526e-06, 'epoch': 1.73}\n",
      "{'loss': 0.1882, 'grad_norm': 24.905994415283203, 'learning_rate': 8.00959232613909e-06, 'epoch': 1.8}\n",
      "{'loss': 0.1515, 'grad_norm': 16.61699104309082, 'learning_rate': 7.529976019184653e-06, 'epoch': 1.87}\n",
      "{'loss': 0.1789, 'grad_norm': 1.0978622436523438, 'learning_rate': 7.050359712230216e-06, 'epoch': 1.94}\n"
     ]
    },
    {
     "data": {
      "application/vnd.jupyter.widget-view+json": {
       "model_id": "923fa72a196547ac821cd30e45ae473f",
       "version_major": 2,
       "version_minor": 0
      },
      "text/plain": [
       "  0%|          | 0/7 [00:00<?, ?it/s]"
      ]
     },
     "metadata": {},
     "output_type": "display_data"
    },
    {
     "name": "stderr",
     "output_type": "stream",
     "text": [
      "c:\\Users\\Rahul\\anaconda3\\Lib\\site-packages\\sklearn\\metrics\\_classification.py:1531: UndefinedMetricWarning: Recall is ill-defined and being set to 0.0 in labels with no true samples. Use `zero_division` parameter to control this behavior.\n",
      "  _warn_prf(average, modifier, f\"{metric.capitalize()} is\", len(result))\n"
     ]
    },
    {
     "name": "stdout",
     "output_type": "stream",
     "text": [
      "{'eval_loss': 0.5347031354904175, 'eval_accuracy': 0.8461538461538461, 'eval_precision': 0.8823632538569425, 'eval_recall': 0.8461538461538461, 'eval_f1': 0.8613021838212678, 'eval_runtime': 8.2399, 'eval_samples_per_second': 12.622, 'eval_steps_per_second': 0.85, 'epoch': 2.0}\n",
      "{'loss': 0.2168, 'grad_norm': 88.98625183105469, 'learning_rate': 6.57074340527578e-06, 'epoch': 2.01}\n",
      "{'loss': 0.1397, 'grad_norm': 91.99180603027344, 'learning_rate': 6.091127098321343e-06, 'epoch': 2.09}\n",
      "{'loss': 0.0848, 'grad_norm': 14.33127498626709, 'learning_rate': 5.611510791366906e-06, 'epoch': 2.16}\n",
      "{'loss': 0.0973, 'grad_norm': 26.921253204345703, 'learning_rate': 5.131894484412471e-06, 'epoch': 2.23}\n",
      "{'loss': 0.1104, 'grad_norm': 11.868987083435059, 'learning_rate': 4.652278177458034e-06, 'epoch': 2.3}\n",
      "{'loss': 0.0712, 'grad_norm': 31.96109390258789, 'learning_rate': 4.172661870503597e-06, 'epoch': 2.37}\n",
      "{'loss': 0.0623, 'grad_norm': 42.49644088745117, 'learning_rate': 3.693045563549161e-06, 'epoch': 2.45}\n",
      "{'loss': 0.1252, 'grad_norm': 0.8144798874855042, 'learning_rate': 3.2134292565947245e-06, 'epoch': 2.52}\n",
      "{'loss': 0.06, 'grad_norm': 0.9870279431343079, 'learning_rate': 2.733812949640288e-06, 'epoch': 2.59}\n",
      "{'loss': 0.0781, 'grad_norm': 0.2953486740589142, 'learning_rate': 2.2541966426858513e-06, 'epoch': 2.66}\n",
      "{'loss': 0.0128, 'grad_norm': 1.0761409997940063, 'learning_rate': 1.7745803357314151e-06, 'epoch': 2.73}\n",
      "{'loss': 0.1231, 'grad_norm': 72.07620239257812, 'learning_rate': 1.2949640287769785e-06, 'epoch': 2.81}\n",
      "{'loss': 0.0686, 'grad_norm': 3.9410598278045654, 'learning_rate': 8.153477218225421e-07, 'epoch': 2.88}\n",
      "{'loss': 0.0239, 'grad_norm': 0.45065751671791077, 'learning_rate': 3.3573141486810554e-07, 'epoch': 2.95}\n"
     ]
    },
    {
     "data": {
      "application/vnd.jupyter.widget-view+json": {
       "model_id": "9e7763c6fd334969bfc3e214cef5a653",
       "version_major": 2,
       "version_minor": 0
      },
      "text/plain": [
       "  0%|          | 0/7 [00:00<?, ?it/s]"
      ]
     },
     "metadata": {},
     "output_type": "display_data"
    },
    {
     "name": "stderr",
     "output_type": "stream",
     "text": [
      "c:\\Users\\Rahul\\anaconda3\\Lib\\site-packages\\sklearn\\metrics\\_classification.py:1531: UndefinedMetricWarning: Recall is ill-defined and being set to 0.0 in labels with no true samples. Use `zero_division` parameter to control this behavior.\n",
      "  _warn_prf(average, modifier, f\"{metric.capitalize()} is\", len(result))\n"
     ]
    },
    {
     "name": "stdout",
     "output_type": "stream",
     "text": [
      "{'eval_loss': 0.7245537042617798, 'eval_accuracy': 0.8076923076923077, 'eval_precision': 0.8813295885256184, 'eval_recall': 0.8076923076923077, 'eval_f1': 0.8412227661125397, 'eval_runtime': 9.8013, 'eval_samples_per_second': 10.611, 'eval_steps_per_second': 0.714, 'epoch': 3.0}\n",
      "{'train_runtime': 1929.7422, 'train_samples_per_second': 3.451, 'train_steps_per_second': 0.216, 'train_loss': 0.42312574622442395, 'epoch': 3.0}\n"
     ]
    },
    {
     "data": {
      "application/vnd.jupyter.widget-view+json": {
       "model_id": "cf85f0d1cd1f42c6892fa210d74fc158",
       "version_major": 2,
       "version_minor": 0
      },
      "text/plain": [
       "  0%|          | 0/7 [00:00<?, ?it/s]"
      ]
     },
     "metadata": {},
     "output_type": "display_data"
    },
    {
     "name": "stderr",
     "output_type": "stream",
     "text": [
      "c:\\Users\\Rahul\\anaconda3\\Lib\\site-packages\\sklearn\\metrics\\_classification.py:1531: UndefinedMetricWarning: Recall is ill-defined and being set to 0.0 in labels with no true samples. Use `zero_division` parameter to control this behavior.\n",
      "  _warn_prf(average, modifier, f\"{metric.capitalize()} is\", len(result))\n"
     ]
    },
    {
     "name": "stdout",
     "output_type": "stream",
     "text": [
      "RoBERTa Evaluation Results: {'eval_loss': 0.7245537042617798, 'eval_accuracy': 0.8076923076923077, 'eval_precision': 0.8813295885256184, 'eval_recall': 0.8076923076923077, 'eval_f1': 0.8412227661125397, 'eval_runtime': 8.7433, 'eval_samples_per_second': 11.895, 'eval_steps_per_second': 0.801, 'epoch': 3.0}\n"
     ]
    },
    {
     "data": {
      "application/vnd.jupyter.widget-view+json": {
       "model_id": "d7edcf9d2cc74204837c1259b4178bd0",
       "version_major": 2,
       "version_minor": 0
      },
      "text/plain": [
       "  0%|          | 0/7 [00:00<?, ?it/s]"
      ]
     },
     "metadata": {},
     "output_type": "display_data"
    },
    {
     "name": "stderr",
     "output_type": "stream",
     "text": [
      "c:\\Users\\Rahul\\anaconda3\\Lib\\site-packages\\sklearn\\metrics\\_classification.py:1531: UndefinedMetricWarning: Recall is ill-defined and being set to 0.0 in labels with no true samples. Use `zero_division` parameter to control this behavior.\n",
      "  _warn_prf(average, modifier, f\"{metric.capitalize()} is\", len(result))\n"
     ]
    },
    {
     "name": "stdout",
     "output_type": "stream",
     "text": [
      "\n",
      "Classification Report (RoBERTa):\n"
     ]
    },
    {
     "ename": "ValueError",
     "evalue": "Number of classes, 4, does not match size of target_names, 3. Try specifying the labels parameter",
     "output_type": "error",
     "traceback": [
      "\u001b[1;31m---------------------------------------------------------------------------\u001b[0m",
      "\u001b[1;31mValueError\u001b[0m                                Traceback (most recent call last)",
      "Cell \u001b[1;32mIn[5], line 99\u001b[0m\n\u001b[0;32m     97\u001b[0m \u001b[38;5;66;03m# Classification Report\u001b[39;00m\n\u001b[0;32m     98\u001b[0m \u001b[38;5;28mprint\u001b[39m(\u001b[38;5;124m\"\u001b[39m\u001b[38;5;130;01m\\n\u001b[39;00m\u001b[38;5;124mClassification Report (RoBERTa):\u001b[39m\u001b[38;5;124m\"\u001b[39m)\n\u001b[1;32m---> 99\u001b[0m \u001b[38;5;28mprint\u001b[39m(classification_report(test_dataset[\u001b[38;5;124m\"\u001b[39m\u001b[38;5;124mlabel\u001b[39m\u001b[38;5;124m\"\u001b[39m], predicted_labels, target_names\u001b[38;5;241m=\u001b[39m[\u001b[38;5;124m\"\u001b[39m\u001b[38;5;124mNegative\u001b[39m\u001b[38;5;124m\"\u001b[39m, \u001b[38;5;124m\"\u001b[39m\u001b[38;5;124mNeutral\u001b[39m\u001b[38;5;124m\"\u001b[39m, \u001b[38;5;124m\"\u001b[39m\u001b[38;5;124mPositive\u001b[39m\u001b[38;5;124m\"\u001b[39m]))\n\u001b[0;32m    101\u001b[0m \u001b[38;5;66;03m# Plot training and evaluation metrics\u001b[39;00m\n\u001b[0;32m    102\u001b[0m history \u001b[38;5;241m=\u001b[39m trainer\u001b[38;5;241m.\u001b[39mstate\u001b[38;5;241m.\u001b[39mlog_history\n",
      "File \u001b[1;32mc:\\Users\\Rahul\\anaconda3\\Lib\\site-packages\\sklearn\\utils\\_param_validation.py:213\u001b[0m, in \u001b[0;36mvalidate_params.<locals>.decorator.<locals>.wrapper\u001b[1;34m(*args, **kwargs)\u001b[0m\n\u001b[0;32m    207\u001b[0m \u001b[38;5;28;01mtry\u001b[39;00m:\n\u001b[0;32m    208\u001b[0m     \u001b[38;5;28;01mwith\u001b[39;00m config_context(\n\u001b[0;32m    209\u001b[0m         skip_parameter_validation\u001b[38;5;241m=\u001b[39m(\n\u001b[0;32m    210\u001b[0m             prefer_skip_nested_validation \u001b[38;5;129;01mor\u001b[39;00m global_skip_validation\n\u001b[0;32m    211\u001b[0m         )\n\u001b[0;32m    212\u001b[0m     ):\n\u001b[1;32m--> 213\u001b[0m         \u001b[38;5;28;01mreturn\u001b[39;00m func(\u001b[38;5;241m*\u001b[39margs, \u001b[38;5;241m*\u001b[39m\u001b[38;5;241m*\u001b[39mkwargs)\n\u001b[0;32m    214\u001b[0m \u001b[38;5;28;01mexcept\u001b[39;00m InvalidParameterError \u001b[38;5;28;01mas\u001b[39;00m e:\n\u001b[0;32m    215\u001b[0m     \u001b[38;5;66;03m# When the function is just a wrapper around an estimator, we allow\u001b[39;00m\n\u001b[0;32m    216\u001b[0m     \u001b[38;5;66;03m# the function to delegate validation to the estimator, but we replace\u001b[39;00m\n\u001b[0;32m    217\u001b[0m     \u001b[38;5;66;03m# the name of the estimator by the name of the function in the error\u001b[39;00m\n\u001b[0;32m    218\u001b[0m     \u001b[38;5;66;03m# message to avoid confusion.\u001b[39;00m\n\u001b[0;32m    219\u001b[0m     msg \u001b[38;5;241m=\u001b[39m re\u001b[38;5;241m.\u001b[39msub(\n\u001b[0;32m    220\u001b[0m         \u001b[38;5;124mr\u001b[39m\u001b[38;5;124m\"\u001b[39m\u001b[38;5;124mparameter of \u001b[39m\u001b[38;5;124m\\\u001b[39m\u001b[38;5;124mw+ must be\u001b[39m\u001b[38;5;124m\"\u001b[39m,\n\u001b[0;32m    221\u001b[0m         \u001b[38;5;124mf\u001b[39m\u001b[38;5;124m\"\u001b[39m\u001b[38;5;124mparameter of \u001b[39m\u001b[38;5;132;01m{\u001b[39;00mfunc\u001b[38;5;241m.\u001b[39m\u001b[38;5;18m__qualname__\u001b[39m\u001b[38;5;132;01m}\u001b[39;00m\u001b[38;5;124m must be\u001b[39m\u001b[38;5;124m\"\u001b[39m,\n\u001b[0;32m    222\u001b[0m         \u001b[38;5;28mstr\u001b[39m(e),\n\u001b[0;32m    223\u001b[0m     )\n",
      "File \u001b[1;32mc:\\Users\\Rahul\\anaconda3\\Lib\\site-packages\\sklearn\\metrics\\_classification.py:2648\u001b[0m, in \u001b[0;36mclassification_report\u001b[1;34m(y_true, y_pred, labels, target_names, sample_weight, digits, output_dict, zero_division)\u001b[0m\n\u001b[0;32m   2642\u001b[0m         warnings\u001b[38;5;241m.\u001b[39mwarn(\n\u001b[0;32m   2643\u001b[0m             \u001b[38;5;124m\"\u001b[39m\u001b[38;5;124mlabels size, \u001b[39m\u001b[38;5;132;01m{0}\u001b[39;00m\u001b[38;5;124m, does not match size of target_names, \u001b[39m\u001b[38;5;132;01m{1}\u001b[39;00m\u001b[38;5;124m\"\u001b[39m\u001b[38;5;241m.\u001b[39mformat(\n\u001b[0;32m   2644\u001b[0m                 \u001b[38;5;28mlen\u001b[39m(labels), \u001b[38;5;28mlen\u001b[39m(target_names)\n\u001b[0;32m   2645\u001b[0m             )\n\u001b[0;32m   2646\u001b[0m         )\n\u001b[0;32m   2647\u001b[0m     \u001b[38;5;28;01melse\u001b[39;00m:\n\u001b[1;32m-> 2648\u001b[0m         \u001b[38;5;28;01mraise\u001b[39;00m \u001b[38;5;167;01mValueError\u001b[39;00m(\n\u001b[0;32m   2649\u001b[0m             \u001b[38;5;124m\"\u001b[39m\u001b[38;5;124mNumber of classes, \u001b[39m\u001b[38;5;132;01m{0}\u001b[39;00m\u001b[38;5;124m, does not match size of \u001b[39m\u001b[38;5;124m\"\u001b[39m\n\u001b[0;32m   2650\u001b[0m             \u001b[38;5;124m\"\u001b[39m\u001b[38;5;124mtarget_names, \u001b[39m\u001b[38;5;132;01m{1}\u001b[39;00m\u001b[38;5;124m. Try specifying the labels \u001b[39m\u001b[38;5;124m\"\u001b[39m\n\u001b[0;32m   2651\u001b[0m             \u001b[38;5;124m\"\u001b[39m\u001b[38;5;124mparameter\u001b[39m\u001b[38;5;124m\"\u001b[39m\u001b[38;5;241m.\u001b[39mformat(\u001b[38;5;28mlen\u001b[39m(labels), \u001b[38;5;28mlen\u001b[39m(target_names))\n\u001b[0;32m   2652\u001b[0m         )\n\u001b[0;32m   2653\u001b[0m \u001b[38;5;28;01mif\u001b[39;00m target_names \u001b[38;5;129;01mis\u001b[39;00m \u001b[38;5;28;01mNone\u001b[39;00m:\n\u001b[0;32m   2654\u001b[0m     target_names \u001b[38;5;241m=\u001b[39m [\u001b[38;5;124m\"\u001b[39m\u001b[38;5;132;01m%s\u001b[39;00m\u001b[38;5;124m\"\u001b[39m \u001b[38;5;241m%\u001b[39m l \u001b[38;5;28;01mfor\u001b[39;00m l \u001b[38;5;129;01min\u001b[39;00m labels]\n",
      "\u001b[1;31mValueError\u001b[0m: Number of classes, 4, does not match size of target_names, 3. Try specifying the labels parameter"
     ]
    }
   ],
   "source": [
    "from transformers import RobertaTokenizer, RobertaForSequenceClassification, Trainer, TrainingArguments\n",
    "from datasets import load_dataset, Dataset\n",
    "from collections import Counter\n",
    "from imblearn.over_sampling import RandomOverSampler\n",
    "import numpy as np\n",
    "import matplotlib.pyplot as plt\n",
    "import seaborn as sns\n",
    "from sklearn.metrics import classification_report, accuracy_score, precision_recall_fscore_support\n",
    "\n",
    "# Load the dataset\n",
    "dataset = load_dataset(\"poem_sentiment\")\n",
    "\n",
    "# Tokenize the dataset\n",
    "tokenizer = RobertaTokenizer.from_pretrained(\"roberta-base\")\n",
    "\n",
    "def tokenize_function(examples):\n",
    "    return tokenizer(examples[\"verse_text\"], padding=\"max_length\", truncation=True, max_length=128)\n",
    "\n",
    "tokenized_datasets = dataset.map(tokenize_function, batched=True)\n",
    "\n",
    "# Split the dataset into train and test sets\n",
    "train_dataset = tokenized_datasets[\"train\"].shuffle(seed=42)\n",
    "test_dataset = tokenized_datasets[\"test\"].shuffle(seed=42)\n",
    "\n",
    "# Check class distribution\n",
    "class_distribution = Counter(train_dataset[\"label\"])\n",
    "print(\"Class Distribution in Train Dataset:\", class_distribution)\n",
    "\n",
    "# Balance the dataset using oversampling\n",
    "train_texts = train_dataset[\"verse_text\"]\n",
    "train_labels = train_dataset[\"label\"]\n",
    "train_texts = np.array(train_texts).reshape(-1, 1)\n",
    "\n",
    "oversampler = RandomOverSampler(random_state=42)\n",
    "train_texts_balanced, train_labels_balanced = oversampler.fit_resample(train_texts, train_labels)\n",
    "train_texts_balanced = train_texts_balanced.flatten()\n",
    "\n",
    "# Create a new balanced dataset\n",
    "balanced_train_dataset = Dataset.from_dict({\"verse_text\": train_texts_balanced, \"label\": train_labels_balanced})\n",
    "tokenized_train_dataset = balanced_train_dataset.map(tokenize_function, batched=True)\n",
    "tokenized_train_dataset = tokenized_train_dataset.shuffle(seed=42)\n",
    "\n",
    "# Verify class distribution\n",
    "balanced_class_distribution = Counter(tokenized_train_dataset[\"label\"])\n",
    "print(\"Class Distribution in Balanced Train Dataset:\", balanced_class_distribution)\n",
    "\n",
    "# Load RoBERTa model\n",
    "model = RobertaForSequenceClassification.from_pretrained(\"roberta-base\", num_labels=4)\n",
    "\n",
    "# Define compute_metrics function\n",
    "def compute_metrics(eval_pred):\n",
    "    logits, labels = eval_pred\n",
    "    predictions = np.argmax(logits, axis=-1)\n",
    "    accuracy = accuracy_score(labels, predictions)\n",
    "    precision, recall, f1, _ = precision_recall_fscore_support(labels, predictions, average=\"weighted\")\n",
    "    return {\n",
    "        \"accuracy\": accuracy,\n",
    "        \"precision\": precision,\n",
    "        \"recall\": recall,\n",
    "        \"f1\": f1,\n",
    "    }\n",
    "\n",
    "# Define training arguments\n",
    "training_args = TrainingArguments(\n",
    "    output_dir=\"./results\",\n",
    "    evaluation_strategy=\"epoch\",\n",
    "    learning_rate=2e-5,\n",
    "    per_device_train_batch_size=16,\n",
    "    per_device_eval_batch_size=16,\n",
    "    num_train_epochs=3,\n",
    "    weight_decay=0.01,\n",
    "    logging_dir=\"./logs\",\n",
    "    logging_steps=10,\n",
    "    save_strategy=\"epoch\",\n",
    ")\n",
    "\n",
    "# Define Trainer\n",
    "trainer = Trainer(\n",
    "    model=model,\n",
    "    args=training_args,\n",
    "    train_dataset=tokenized_train_dataset,\n",
    "    eval_dataset=test_dataset,\n",
    "    compute_metrics=compute_metrics,  # Add compute_metrics function\n",
    ")\n",
    "\n",
    "# Train the model\n",
    "trainer.train()\n",
    "\n",
    "# Evaluate the model\n",
    "results = trainer.evaluate()\n",
    "print(\"RoBERTa Evaluation Results:\", results)\n",
    "\n",
    "# Predict on the test set\n",
    "predictions = trainer.predict(test_dataset)\n",
    "predicted_labels = np.argmax(predictions.predictions, axis=-1)\n"
   ]
  },
  {
   "cell_type": "code",
   "execution_count": 7,
   "metadata": {},
   "outputs": [
    {
     "name": "stdout",
     "output_type": "stream",
     "text": [
      "Class Distribution in Train Dataset: Counter({2: 555, 0: 155, 1: 133, 3: 49})\n"
     ]
    },
    {
     "data": {
      "application/vnd.jupyter.widget-view+json": {
       "model_id": "1026915ebdfc43cc880c075e57d315a4",
       "version_major": 2,
       "version_minor": 0
      },
      "text/plain": [
       "Map:   0%|          | 0/2220 [00:00<?, ? examples/s]"
      ]
     },
     "metadata": {},
     "output_type": "display_data"
    },
    {
     "name": "stdout",
     "output_type": "stream",
     "text": [
      "Class Distribution in Balanced Train Dataset: Counter({3: 555, 1: 555, 0: 555, 2: 555})\n"
     ]
    },
    {
     "name": "stderr",
     "output_type": "stream",
     "text": [
      "Some weights of RobertaForSequenceClassification were not initialized from the model checkpoint at roberta-base and are newly initialized: ['classifier.dense.bias', 'classifier.dense.weight', 'classifier.out_proj.bias', 'classifier.out_proj.weight']\n",
      "You should probably TRAIN this model on a down-stream task to be able to use it for predictions and inference.\n",
      "c:\\Users\\Rahul\\anaconda3\\Lib\\site-packages\\transformers\\training_args.py:1568: FutureWarning: `evaluation_strategy` is deprecated and will be removed in version 4.46 of 🤗 Transformers. Use `eval_strategy` instead\n",
      "  warnings.warn(\n"
     ]
    },
    {
     "data": {
      "application/vnd.jupyter.widget-view+json": {
       "model_id": "a56bb5988db349b898cb0cf446894675",
       "version_major": 2,
       "version_minor": 0
      },
      "text/plain": [
       "  0%|          | 0/417 [00:00<?, ?it/s]"
      ]
     },
     "metadata": {},
     "output_type": "display_data"
    },
    {
     "name": "stdout",
     "output_type": "stream",
     "text": [
      "{'loss': 1.3934, 'grad_norm': 2.5038936138153076, 'learning_rate': 1.9520383693045567e-05, 'epoch': 0.07}\n",
      "{'loss': 1.3838, 'grad_norm': 1.673593521118164, 'learning_rate': 1.9040767386091128e-05, 'epoch': 0.14}\n",
      "{'loss': 1.3842, 'grad_norm': 1.940244436264038, 'learning_rate': 1.8561151079136693e-05, 'epoch': 0.22}\n",
      "{'loss': 1.3601, 'grad_norm': 2.867568254470825, 'learning_rate': 1.8081534772182258e-05, 'epoch': 0.29}\n",
      "{'loss': 1.2472, 'grad_norm': 9.980321884155273, 'learning_rate': 1.760191846522782e-05, 'epoch': 0.36}\n",
      "{'loss': 1.0238, 'grad_norm': 16.367507934570312, 'learning_rate': 1.7122302158273384e-05, 'epoch': 0.43}\n",
      "{'loss': 0.8826, 'grad_norm': 18.715368270874023, 'learning_rate': 1.6642685851318946e-05, 'epoch': 0.5}\n",
      "{'loss': 0.7134, 'grad_norm': 11.34643268585205, 'learning_rate': 1.616306954436451e-05, 'epoch': 0.58}\n",
      "{'loss': 0.5882, 'grad_norm': 22.765153884887695, 'learning_rate': 1.5683453237410072e-05, 'epoch': 0.65}\n",
      "{'loss': 0.5571, 'grad_norm': 24.463106155395508, 'learning_rate': 1.5203836930455638e-05, 'epoch': 0.72}\n",
      "{'loss': 0.6162, 'grad_norm': 74.63866424560547, 'learning_rate': 1.47242206235012e-05, 'epoch': 0.79}\n",
      "{'loss': 0.3971, 'grad_norm': 25.740102767944336, 'learning_rate': 1.4244604316546765e-05, 'epoch': 0.86}\n",
      "{'loss': 0.3939, 'grad_norm': 51.80421447753906, 'learning_rate': 1.3764988009592328e-05, 'epoch': 0.94}\n"
     ]
    },
    {
     "data": {
      "application/vnd.jupyter.widget-view+json": {
       "model_id": "0da77ad596c245699050fee81bca9ca6",
       "version_major": 2,
       "version_minor": 0
      },
      "text/plain": [
       "  0%|          | 0/7 [00:00<?, ?it/s]"
      ]
     },
     "metadata": {},
     "output_type": "display_data"
    },
    {
     "name": "stderr",
     "output_type": "stream",
     "text": [
      "c:\\Users\\Rahul\\anaconda3\\Lib\\site-packages\\sklearn\\metrics\\_classification.py:1531: UndefinedMetricWarning: Recall is ill-defined and being set to 0.0 in labels with no true samples. Use `zero_division` parameter to control this behavior.\n",
      "  _warn_prf(average, modifier, f\"{metric.capitalize()} is\", len(result))\n"
     ]
    },
    {
     "name": "stdout",
     "output_type": "stream",
     "text": [
      "{'eval_loss': 0.551930844783783, 'eval_accuracy': 0.7788461538461539, 'eval_precision': 0.8210664335664336, 'eval_recall': 0.7788461538461539, 'eval_f1': 0.7913282230589923, 'eval_runtime': 9.8513, 'eval_samples_per_second': 10.557, 'eval_steps_per_second': 0.711, 'epoch': 1.0}\n",
      "{'loss': 0.3036, 'grad_norm': 21.584226608276367, 'learning_rate': 1.3285371702637891e-05, 'epoch': 1.01}\n",
      "{'loss': 0.2369, 'grad_norm': 21.447423934936523, 'learning_rate': 1.2805755395683454e-05, 'epoch': 1.08}\n",
      "{'loss': 0.2273, 'grad_norm': 10.255644798278809, 'learning_rate': 1.232613908872902e-05, 'epoch': 1.15}\n",
      "{'loss': 0.2199, 'grad_norm': 6.737246036529541, 'learning_rate': 1.184652278177458e-05, 'epoch': 1.22}\n",
      "{'loss': 0.1887, 'grad_norm': 33.8498649597168, 'learning_rate': 1.1366906474820146e-05, 'epoch': 1.29}\n",
      "{'loss': 0.1258, 'grad_norm': 1.1745606660842896, 'learning_rate': 1.0887290167865707e-05, 'epoch': 1.37}\n",
      "{'loss': 0.1775, 'grad_norm': 38.52499008178711, 'learning_rate': 1.0407673860911272e-05, 'epoch': 1.44}\n",
      "{'loss': 0.2583, 'grad_norm': 34.36024475097656, 'learning_rate': 9.928057553956835e-06, 'epoch': 1.51}\n",
      "{'loss': 0.144, 'grad_norm': 5.616070747375488, 'learning_rate': 9.448441247002398e-06, 'epoch': 1.58}\n",
      "{'loss': 0.2748, 'grad_norm': 10.379576683044434, 'learning_rate': 8.968824940047961e-06, 'epoch': 1.65}\n",
      "{'loss': 0.1548, 'grad_norm': 9.46189022064209, 'learning_rate': 8.489208633093526e-06, 'epoch': 1.73}\n",
      "{'loss': 0.231, 'grad_norm': 55.406620025634766, 'learning_rate': 8.00959232613909e-06, 'epoch': 1.8}\n",
      "{'loss': 0.142, 'grad_norm': 5.634274005889893, 'learning_rate': 7.529976019184653e-06, 'epoch': 1.87}\n",
      "{'loss': 0.0836, 'grad_norm': 2.3973941802978516, 'learning_rate': 7.050359712230216e-06, 'epoch': 1.94}\n"
     ]
    },
    {
     "data": {
      "application/vnd.jupyter.widget-view+json": {
       "model_id": "361a1f7313d243d69092af3ddb3c09dd",
       "version_major": 2,
       "version_minor": 0
      },
      "text/plain": [
       "  0%|          | 0/7 [00:00<?, ?it/s]"
      ]
     },
     "metadata": {},
     "output_type": "display_data"
    },
    {
     "name": "stderr",
     "output_type": "stream",
     "text": [
      "c:\\Users\\Rahul\\anaconda3\\Lib\\site-packages\\sklearn\\metrics\\_classification.py:1531: UndefinedMetricWarning: Recall is ill-defined and being set to 0.0 in labels with no true samples. Use `zero_division` parameter to control this behavior.\n",
      "  _warn_prf(average, modifier, f\"{metric.capitalize()} is\", len(result))\n"
     ]
    },
    {
     "name": "stdout",
     "output_type": "stream",
     "text": [
      "{'eval_loss': 0.5360199213027954, 'eval_accuracy': 0.875, 'eval_precision': 0.9117445054945055, 'eval_recall': 0.875, 'eval_f1': 0.8894318859435137, 'eval_runtime': 9.089, 'eval_samples_per_second': 11.442, 'eval_steps_per_second': 0.77, 'epoch': 2.0}\n",
      "{'loss': 0.2027, 'grad_norm': 71.7140884399414, 'learning_rate': 6.57074340527578e-06, 'epoch': 2.01}\n",
      "{'loss': 0.1027, 'grad_norm': 1.3155275583267212, 'learning_rate': 6.091127098321343e-06, 'epoch': 2.09}\n",
      "{'loss': 0.0647, 'grad_norm': 18.509939193725586, 'learning_rate': 5.611510791366906e-06, 'epoch': 2.16}\n",
      "{'loss': 0.0669, 'grad_norm': 22.216123580932617, 'learning_rate': 5.131894484412471e-06, 'epoch': 2.23}\n",
      "{'loss': 0.06, 'grad_norm': 26.0726375579834, 'learning_rate': 4.652278177458034e-06, 'epoch': 2.3}\n",
      "{'loss': 0.0483, 'grad_norm': 0.5341821908950806, 'learning_rate': 4.172661870503597e-06, 'epoch': 2.37}\n",
      "{'loss': 0.049, 'grad_norm': 0.7516602277755737, 'learning_rate': 3.693045563549161e-06, 'epoch': 2.45}\n",
      "{'loss': 0.1296, 'grad_norm': 0.36422115564346313, 'learning_rate': 3.2134292565947245e-06, 'epoch': 2.52}\n",
      "{'loss': 0.0743, 'grad_norm': 2.1035826206207275, 'learning_rate': 2.733812949640288e-06, 'epoch': 2.59}\n",
      "{'loss': 0.0871, 'grad_norm': 0.18396906554698944, 'learning_rate': 2.2541966426858513e-06, 'epoch': 2.66}\n",
      "{'loss': 0.0978, 'grad_norm': 9.557821273803711, 'learning_rate': 1.7745803357314151e-06, 'epoch': 2.73}\n",
      "{'loss': 0.0932, 'grad_norm': 27.70818328857422, 'learning_rate': 1.2949640287769785e-06, 'epoch': 2.81}\n",
      "{'loss': 0.1163, 'grad_norm': 9.971426963806152, 'learning_rate': 8.153477218225421e-07, 'epoch': 2.88}\n",
      "{'loss': 0.022, 'grad_norm': 0.2739295959472656, 'learning_rate': 3.3573141486810554e-07, 'epoch': 2.95}\n"
     ]
    },
    {
     "data": {
      "application/vnd.jupyter.widget-view+json": {
       "model_id": "dc100928f0c742d185fc5b123b44b271",
       "version_major": 2,
       "version_minor": 0
      },
      "text/plain": [
       "  0%|          | 0/7 [00:00<?, ?it/s]"
      ]
     },
     "metadata": {},
     "output_type": "display_data"
    },
    {
     "name": "stderr",
     "output_type": "stream",
     "text": [
      "c:\\Users\\Rahul\\anaconda3\\Lib\\site-packages\\sklearn\\metrics\\_classification.py:1531: UndefinedMetricWarning: Recall is ill-defined and being set to 0.0 in labels with no true samples. Use `zero_division` parameter to control this behavior.\n",
      "  _warn_prf(average, modifier, f\"{metric.capitalize()} is\", len(result))\n"
     ]
    },
    {
     "name": "stdout",
     "output_type": "stream",
     "text": [
      "{'eval_loss': 0.5636696219444275, 'eval_accuracy': 0.8269230769230769, 'eval_precision': 0.8703739240089917, 'eval_recall': 0.8269230769230769, 'eval_f1': 0.845083122006199, 'eval_runtime': 9.62, 'eval_samples_per_second': 10.811, 'eval_steps_per_second': 0.728, 'epoch': 3.0}\n",
      "{'train_runtime': 2054.5644, 'train_samples_per_second': 3.242, 'train_steps_per_second': 0.203, 'train_loss': 0.38296454305128513, 'epoch': 3.0}\n"
     ]
    },
    {
     "data": {
      "application/vnd.jupyter.widget-view+json": {
       "model_id": "6f277873ea6941a4867b0a0ec3b3076c",
       "version_major": 2,
       "version_minor": 0
      },
      "text/plain": [
       "  0%|          | 0/7 [00:00<?, ?it/s]"
      ]
     },
     "metadata": {},
     "output_type": "display_data"
    },
    {
     "name": "stderr",
     "output_type": "stream",
     "text": [
      "c:\\Users\\Rahul\\anaconda3\\Lib\\site-packages\\sklearn\\metrics\\_classification.py:1531: UndefinedMetricWarning: Recall is ill-defined and being set to 0.0 in labels with no true samples. Use `zero_division` parameter to control this behavior.\n",
      "  _warn_prf(average, modifier, f\"{metric.capitalize()} is\", len(result))\n"
     ]
    },
    {
     "name": "stdout",
     "output_type": "stream",
     "text": [
      "RoBERTa Evaluation Results: {'eval_loss': 0.5636696219444275, 'eval_accuracy': 0.8269230769230769, 'eval_precision': 0.8703739240089917, 'eval_recall': 0.8269230769230769, 'eval_f1': 0.845083122006199, 'eval_runtime': 8.8843, 'eval_samples_per_second': 11.706, 'eval_steps_per_second': 0.788, 'epoch': 3.0}\n"
     ]
    },
    {
     "data": {
      "application/vnd.jupyter.widget-view+json": {
       "model_id": "65f531678e074901aed9943da0fbf778",
       "version_major": 2,
       "version_minor": 0
      },
      "text/plain": [
       "  0%|          | 0/7 [00:00<?, ?it/s]"
      ]
     },
     "metadata": {},
     "output_type": "display_data"
    },
    {
     "name": "stderr",
     "output_type": "stream",
     "text": [
      "c:\\Users\\Rahul\\anaconda3\\Lib\\site-packages\\sklearn\\metrics\\_classification.py:1531: UndefinedMetricWarning: Recall is ill-defined and being set to 0.0 in labels with no true samples. Use `zero_division` parameter to control this behavior.\n",
      "  _warn_prf(average, modifier, f\"{metric.capitalize()} is\", len(result))\n",
      "c:\\Users\\Rahul\\anaconda3\\Lib\\site-packages\\sklearn\\metrics\\_classification.py:1531: UndefinedMetricWarning: Recall is ill-defined and being set to 0.0 in labels with no true samples. Use `zero_division` parameter to control this behavior.\n",
      "  _warn_prf(average, modifier, f\"{metric.capitalize()} is\", len(result))\n",
      "c:\\Users\\Rahul\\anaconda3\\Lib\\site-packages\\sklearn\\metrics\\_classification.py:1531: UndefinedMetricWarning: Recall is ill-defined and being set to 0.0 in labels with no true samples. Use `zero_division` parameter to control this behavior.\n",
      "  _warn_prf(average, modifier, f\"{metric.capitalize()} is\", len(result))\n",
      "c:\\Users\\Rahul\\anaconda3\\Lib\\site-packages\\sklearn\\metrics\\_classification.py:1531: UndefinedMetricWarning: Recall is ill-defined and being set to 0.0 in labels with no true samples. Use `zero_division` parameter to control this behavior.\n",
      "  _warn_prf(average, modifier, f\"{metric.capitalize()} is\", len(result))\n"
     ]
    },
    {
     "name": "stdout",
     "output_type": "stream",
     "text": [
      "\n",
      "Classification Report (RoBERTa):\n",
      "              precision    recall  f1-score   support\n",
      "\n",
      "     Class 0       0.74      0.89      0.81        19\n",
      "     Class 1       0.75      0.75      0.75        16\n",
      "     Class 2       0.93      0.83      0.88        69\n",
      "     Class 3       0.00      0.00      0.00         0\n",
      "\n",
      "    accuracy                           0.83       104\n",
      "   macro avg       0.61      0.62      0.61       104\n",
      "weighted avg       0.87      0.83      0.85       104\n",
      "\n"
     ]
    },
    {
     "data": {
      "image/png": "[encoded data removed]",
      "text/plain": [
       "<Figure size 1200x500 with 2 Axes>"
      ]
     },
     "metadata": {},
     "output_type": "display_data"
    },
    {
     "name": "stderr",
     "output_type": "stream",
     "text": [
      "C:\\Users\\Rahul\\AppData\\Local\\Temp\\ipykernel_42904\\2476480308.py:135: FutureWarning: \n",
      "\n",
      "Passing `palette` without assigning `hue` is deprecated and will be removed in v0.14.0. Assign the `x` variable to `hue` and set `legend=False` for the same effect.\n",
      "\n",
      "  sns.countplot(x=train_labels, palette=\"viridis\")\n",
      "C:\\Users\\Rahul\\AppData\\Local\\Temp\\ipykernel_42904\\2476480308.py:141: FutureWarning: \n",
      "\n",
      "Passing `palette` without assigning `hue` is deprecated and will be removed in v0.14.0. Assign the `x` variable to `hue` and set `legend=False` for the same effect.\n",
      "\n",
      "  sns.countplot(x=train_labels_balanced, palette=\"viridis\")\n"
     ]
    },
    {
     "data": {
      "image/png": "[encoded data removed]",
      "text/plain": [
       "<Figure size 1200x500 with 2 Axes>"
      ]
     },
     "metadata": {},
     "output_type": "display_data"
    }
   ],
   "source": [
    "from transformers import RobertaTokenizer, RobertaForSequenceClassification, Trainer, TrainingArguments\n",
    "from datasets import load_dataset, Dataset\n",
    "from collections import Counter\n",
    "from imblearn.over_sampling import RandomOverSampler\n",
    "import numpy as np\n",
    "import matplotlib.pyplot as plt\n",
    "import seaborn as sns\n",
    "from sklearn.metrics import classification_report, accuracy_score, precision_recall_fscore_support\n",
    "\n",
    "# Load the dataset\n",
    "dataset = load_dataset(\"poem_sentiment\")\n",
    "\n",
    "# Tokenize the dataset\n",
    "tokenizer = RobertaTokenizer.from_pretrained(\"roberta-base\")\n",
    "\n",
    "def tokenize_function(examples):\n",
    "    return tokenizer(examples[\"verse_text\"], padding=\"max_length\", truncation=True, max_length=128)\n",
    "\n",
    "tokenized_datasets = dataset.map(tokenize_function, batched=True)\n",
    "\n",
    "# Split the dataset into train and test sets\n",
    "train_dataset = tokenized_datasets[\"train\"].shuffle(seed=42)\n",
    "test_dataset = tokenized_datasets[\"test\"].shuffle(seed=42)\n",
    "\n",
    "# Check class distribution\n",
    "class_distribution = Counter(train_dataset[\"label\"])\n",
    "print(\"Class Distribution in Train Dataset:\", class_distribution)\n",
    "\n",
    "# Balance the dataset using oversampling\n",
    "train_texts = train_dataset[\"verse_text\"]\n",
    "train_labels = train_dataset[\"label\"]\n",
    "train_texts = np.array(train_texts).reshape(-1, 1)\n",
    "\n",
    "oversampler = RandomOverSampler(random_state=42)\n",
    "train_texts_balanced, train_labels_balanced = oversampler.fit_resample(train_texts, train_labels)\n",
    "train_texts_balanced = train_texts_balanced.flatten()\n",
    "\n",
    "# Create a new balanced dataset\n",
    "balanced_train_dataset = Dataset.from_dict({\"verse_text\": train_texts_balanced, \"label\": train_labels_balanced})\n",
    "tokenized_train_dataset = balanced_train_dataset.map(tokenize_function, batched=True)\n",
    "tokenized_train_dataset = tokenized_train_dataset.shuffle(seed=42)\n",
    "\n",
    "# Verify class distribution\n",
    "balanced_class_distribution = Counter(tokenized_train_dataset[\"label\"])\n",
    "print(\"Class Distribution in Balanced Train Dataset:\", balanced_class_distribution)\n",
    "\n",
    "# Load RoBERTa model\n",
    "model = RobertaForSequenceClassification.from_pretrained(\"roberta-base\", num_labels=4)\n",
    "\n",
    "# Define compute_metrics function\n",
    "def compute_metrics(eval_pred):\n",
    "    logits, labels = eval_pred\n",
    "    predictions = np.argmax(logits, axis=-1)\n",
    "    accuracy = accuracy_score(labels, predictions)\n",
    "    precision, recall, f1, _ = precision_recall_fscore_support(labels, predictions, average=\"weighted\")\n",
    "    return {\n",
    "        \"accuracy\": accuracy,\n",
    "        \"precision\": precision,\n",
    "        \"recall\": recall,\n",
    "        \"f1\": f1,\n",
    "    }\n",
    "\n",
    "# Define training arguments\n",
    "training_args = TrainingArguments(\n",
    "    output_dir=\"./results\",\n",
    "    evaluation_strategy=\"epoch\",\n",
    "    learning_rate=2e-5,\n",
    "    per_device_train_batch_size=16,\n",
    "    per_device_eval_batch_size=16,\n",
    "    num_train_epochs=3,\n",
    "    weight_decay=0.01,\n",
    "    logging_dir=\"./logs\",\n",
    "    logging_steps=10,\n",
    "    save_strategy=\"epoch\",\n",
    ")\n",
    "\n",
    "# Define Trainer\n",
    "trainer = Trainer(\n",
    "    model=model,\n",
    "    args=training_args,\n",
    "    train_dataset=tokenized_train_dataset,\n",
    "    eval_dataset=test_dataset,\n",
    "    compute_metrics=compute_metrics,  # Add compute_metrics function\n",
    ")\n",
    "\n",
    "# Train the model\n",
    "trainer.train()\n",
    "\n",
    "# Evaluate the model\n",
    "results = trainer.evaluate()\n",
    "print(\"RoBERTa Evaluation Results:\", results)\n",
    "\n",
    "# Predict on the test set\n",
    "predictions = trainer.predict(test_dataset)\n",
    "predicted_labels = np.argmax(predictions.predictions, axis=-1)\n",
    "\n",
    "# Classification Report\n",
    "print(\"\\nClassification Report (RoBERTa):\")\n",
    "print(classification_report(test_dataset[\"label\"], predicted_labels, target_names=[\"Class 0\", \"Class 1\", \"Class 2\", \"Class 3\"]))\n",
    "\n",
    "# Plot training and evaluation metrics\n",
    "history = trainer.state.log_history\n",
    "\n",
    "# Extract metrics\n",
    "train_loss = [x[\"loss\"] for x in history if \"loss\" in x and \"eval_loss\" not in x]\n",
    "eval_loss = [x[\"eval_loss\"] for x in history if \"eval_loss\" in x]\n",
    "eval_accuracy = [x[\"eval_accuracy\"] for x in history if \"eval_accuracy\" in x]\n",
    "\n",
    "# Plot Training and Evaluation Loss\n",
    "plt.figure(figsize=(12, 5))\n",
    "\n",
    "plt.subplot(1, 2, 1)\n",
    "plt.plot(train_loss, label=\"Training Loss\")\n",
    "plt.plot(eval_loss, label=\"Evaluation Loss\")\n",
    "plt.title(\"Training and Evaluation Loss Over Epochs\")\n",
    "plt.xlabel(\"Epochs\")\n",
    "plt.ylabel(\"Loss\")\n",
    "plt.legend()\n",
    "\n",
    "# Plot Evaluation Accuracy\n",
    "plt.subplot(1, 2, 2)\n",
    "plt.plot(eval_accuracy, label=\"Evaluation Accuracy\", color=\"green\")\n",
    "plt.title(\"Evaluation Accuracy Over Epochs\")\n",
    "plt.xlabel(\"Epochs\")\n",
    "plt.ylabel(\"Accuracy\")\n",
    "plt.legend()\n",
    "\n",
    "plt.tight_layout()\n",
    "plt.show()\n",
    "\n",
    "# Visualize class distribution before and after balancing\n",
    "plt.figure(figsize=(12, 5))\n",
    "\n",
    "plt.subplot(1, 2, 1)\n",
    "sns.countplot(x=train_labels, palette=\"viridis\")\n",
    "plt.title(\"Class Distribution Before Balancing\")\n",
    "plt.xlabel(\"Label\")\n",
    "plt.ylabel(\"Count\")\n",
    "\n",
    "plt.subplot(1, 2, 2)\n",
    "sns.countplot(x=train_labels_balanced, palette=\"viridis\")\n",
    "plt.title(\"Class Distribution After Balancing\")\n",
    "plt.xlabel(\"Label\")\n",
    "plt.ylabel(\"Count\")\n",
    "\n",
    "plt.tight_layout()\n",
    "plt.show()"
   ]
  }
 ],
 "metadata": {
  "kernelspec": {
   "display_name": "base",
   "language": "python",
   "name": "python3"
  },
  "language_info": {
   "codemirror_mode": {
    "name": "ipython",
    "version": 3
   },
   "file_extension": ".py",
   "mimetype": "text/x-python",
   "name": "python",
   "nbconvert_exporter": "python",
   "pygments_lexer": "ipython3",
   "version": "3.12.4"
  }
 },
 "nbformat": 4,
 "nbformat_minor": 2
}
